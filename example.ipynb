{
 "cells": [
  {
   "cell_type": "markdown",
   "metadata": {},
   "source": [
    "## Setup evnironment"
   ]
  },
  {
   "cell_type": "code",
   "execution_count": 2,
   "metadata": {
    "collapsed": false
   },
   "outputs": [],
   "source": [
    "import os\n",
    "import numpy as np\n",
    "import pandas as pd\n",
    "import json\n",
    "from skimage.io import imread"
   ]
  },
  {
   "cell_type": "code",
   "execution_count": 3,
   "metadata": {},
   "outputs": [],
   "source": [
    "# Notebook auto reloads code. (Ref: http://stackoverflow.com/questions/1907993/autoreload-of-modules-in-ipython)\n",
    "%load_ext autoreload\n",
    "%autoreload 2"
   ]
  },
  {
   "cell_type": "code",
   "execution_count": 4,
   "metadata": {
    "collapsed": true
   },
   "outputs": [],
   "source": [
    "from psf import compute, plotPSF"
   ]
  },
  {
   "cell_type": "markdown",
   "metadata": {},
   "source": [
    "## Setup plotting"
   ]
  },
  {
   "cell_type": "code",
   "execution_count": 5,
   "metadata": {
    "collapsed": false
   },
   "outputs": [],
   "source": [
    "import matplotlib.pyplot as plt\n",
    "%matplotlib inline\n",
    "import seaborn as sns\n",
    "sns.set_context('paper', font_scale=2.0)\n",
    "sns.set_style('ticks')"
   ]
  },
  {
   "cell_type": "markdown",
   "metadata": {},
   "source": [
    "## Define parameters"
   ]
  },
  {
   "cell_type": "code",
   "execution_count": 6,
   "metadata": {
    "collapsed": false
   },
   "outputs": [],
   "source": [
    "FOVumLat = 109.85\n",
    "FOVpxLat = 500.0\n",
    "pxPerUmLat = FOVpxLat/FOVumLat\n",
    "pxPerUmAx = 1.0/0.1633 # 2.0\n",
    "wavelength = 570\n",
    "NA = 0.7\n",
    "windowUm = [4,2,2]\n",
    "options = {'FOVumLat':FOVumLat, 'FOVpxLat':FOVpxLat, 'pxPerUmLat':pxPerUmLat, 'pxPerUmAx':pxPerUmAx, 'wavelength':wavelength, 'NA':NA, 'windowUm':windowUm}\n",
    "options['thresh'] = .05"
   ]
  },
  {
   "cell_type": "code",
   "execution_count": 7,
   "metadata": {
    "collapsed": false
   },
   "outputs": [
    {
     "data": {
      "text/plain": [
       "{'FOVumLat': 109.85,\n",
       " 'FOVpxLat': 500.0,\n",
       " 'pxPerUmLat': 4.551661356395084,\n",
       " 'pxPerUmAx': 6.12369871402327,\n",
       " 'wavelength': 570,\n",
       " 'NA': 0.7,\n",
       " 'windowUm': [4, 2, 2],\n",
       " 'thresh': 0.05}"
      ]
     },
     "execution_count": 7,
     "metadata": {},
     "output_type": "execute_result"
    }
   ],
   "source": [
    "options"
   ]
  },
  {
   "cell_type": "markdown",
   "metadata": {},
   "source": [
    "## Get PSF"
   ]
  },
  {
   "cell_type": "code",
   "execution_count": 8,
   "metadata": {
    "collapsed": false
   },
   "outputs": [],
   "source": [
    "im = imread('F:\\\\beads_20210714\\\\tiff_stacks\\\\beads_run1_HR\\\\21-07-14 221038_skewed-42_dsf1_allsecs\\\\crop.tif', plugin='tifffile')   "
   ]
  },
  {
   "cell_type": "code",
   "execution_count": 9,
   "metadata": {
    "collapsed": false
   },
   "outputs": [],
   "source": [
    "data, beads, maxima, centers, smoothed = compute(im, options)"
   ]
  },
  {
   "cell_type": "code",
   "execution_count": 10,
   "metadata": {
    "collapsed": false
   },
   "outputs": [],
   "source": [
    "PSF = pd.concat([x[0] for x in data])\n",
    "PSF['Max'] = maxima\n",
    "PSF = PSF.reset_index().drop(['index'],axis=1)\n",
    "latProfile = [x[1] for x in data]\n",
    "axProfile = [x[2] for x in data]"
   ]
  },
  {
   "cell_type": "code",
   "execution_count": 11,
   "metadata": {
    "collapsed": false,
    "scrolled": false
   },
   "outputs": [
    {
     "data": {
      "text/html": [
       "<div>\n",
       "<style scoped>\n",
       "    .dataframe tbody tr th:only-of-type {\n",
       "        vertical-align: middle;\n",
       "    }\n",
       "\n",
       "    .dataframe tbody tr th {\n",
       "        vertical-align: top;\n",
       "    }\n",
       "\n",
       "    .dataframe thead th {\n",
       "        text-align: right;\n",
       "    }\n",
       "</style>\n",
       "<table border=\"1\" class=\"dataframe\">\n",
       "  <thead>\n",
       "    <tr style=\"text-align: right;\">\n",
       "      <th></th>\n",
       "      <th>FWHMlat</th>\n",
       "      <th>FWHMax</th>\n",
       "      <th>Max</th>\n",
       "    </tr>\n",
       "  </thead>\n",
       "  <tbody>\n",
       "    <tr>\n",
       "      <th>0</th>\n",
       "      <td>0.591868</td>\n",
       "      <td>1.963810</td>\n",
       "      <td>6771</td>\n",
       "    </tr>\n",
       "    <tr>\n",
       "      <th>1</th>\n",
       "      <td>0.609614</td>\n",
       "      <td>1.948342</td>\n",
       "      <td>4781</td>\n",
       "    </tr>\n",
       "    <tr>\n",
       "      <th>2</th>\n",
       "      <td>0.628324</td>\n",
       "      <td>1.898410</td>\n",
       "      <td>4434</td>\n",
       "    </tr>\n",
       "    <tr>\n",
       "      <th>3</th>\n",
       "      <td>0.569850</td>\n",
       "      <td>1.885054</td>\n",
       "      <td>2890</td>\n",
       "    </tr>\n",
       "    <tr>\n",
       "      <th>4</th>\n",
       "      <td>0.619608</td>\n",
       "      <td>1.982276</td>\n",
       "      <td>3621</td>\n",
       "    </tr>\n",
       "    <tr>\n",
       "      <th>5</th>\n",
       "      <td>0.587970</td>\n",
       "      <td>1.942704</td>\n",
       "      <td>3513</td>\n",
       "    </tr>\n",
       "    <tr>\n",
       "      <th>6</th>\n",
       "      <td>0.614768</td>\n",
       "      <td>1.988139</td>\n",
       "      <td>6009</td>\n",
       "    </tr>\n",
       "    <tr>\n",
       "      <th>7</th>\n",
       "      <td>0.601478</td>\n",
       "      <td>1.801369</td>\n",
       "      <td>6334</td>\n",
       "    </tr>\n",
       "    <tr>\n",
       "      <th>8</th>\n",
       "      <td>0.572946</td>\n",
       "      <td>1.951117</td>\n",
       "      <td>5447</td>\n",
       "    </tr>\n",
       "    <tr>\n",
       "      <th>9</th>\n",
       "      <td>0.543083</td>\n",
       "      <td>1.936333</td>\n",
       "      <td>16824</td>\n",
       "    </tr>\n",
       "    <tr>\n",
       "      <th>10</th>\n",
       "      <td>0.572196</td>\n",
       "      <td>1.783624</td>\n",
       "      <td>5347</td>\n",
       "    </tr>\n",
       "    <tr>\n",
       "      <th>11</th>\n",
       "      <td>0.554217</td>\n",
       "      <td>1.850760</td>\n",
       "      <td>8820</td>\n",
       "    </tr>\n",
       "    <tr>\n",
       "      <th>12</th>\n",
       "      <td>0.567689</td>\n",
       "      <td>1.922265</td>\n",
       "      <td>2891</td>\n",
       "    </tr>\n",
       "    <tr>\n",
       "      <th>13</th>\n",
       "      <td>0.522939</td>\n",
       "      <td>0.818747</td>\n",
       "      <td>1113</td>\n",
       "    </tr>\n",
       "    <tr>\n",
       "      <th>14</th>\n",
       "      <td>0.551283</td>\n",
       "      <td>1.806268</td>\n",
       "      <td>5197</td>\n",
       "    </tr>\n",
       "    <tr>\n",
       "      <th>15</th>\n",
       "      <td>0.621479</td>\n",
       "      <td>1.939735</td>\n",
       "      <td>5065</td>\n",
       "    </tr>\n",
       "    <tr>\n",
       "      <th>16</th>\n",
       "      <td>0.559755</td>\n",
       "      <td>1.973699</td>\n",
       "      <td>7453</td>\n",
       "    </tr>\n",
       "    <tr>\n",
       "      <th>17</th>\n",
       "      <td>0.562821</td>\n",
       "      <td>1.821653</td>\n",
       "      <td>3991</td>\n",
       "    </tr>\n",
       "    <tr>\n",
       "      <th>18</th>\n",
       "      <td>0.538997</td>\n",
       "      <td>1.774287</td>\n",
       "      <td>7367</td>\n",
       "    </tr>\n",
       "    <tr>\n",
       "      <th>19</th>\n",
       "      <td>0.593747</td>\n",
       "      <td>1.749335</td>\n",
       "      <td>16136</td>\n",
       "    </tr>\n",
       "    <tr>\n",
       "      <th>20</th>\n",
       "      <td>0.583801</td>\n",
       "      <td>1.914635</td>\n",
       "      <td>3393</td>\n",
       "    </tr>\n",
       "    <tr>\n",
       "      <th>21</th>\n",
       "      <td>0.578565</td>\n",
       "      <td>1.690156</td>\n",
       "      <td>3299</td>\n",
       "    </tr>\n",
       "    <tr>\n",
       "      <th>22</th>\n",
       "      <td>0.631184</td>\n",
       "      <td>1.830343</td>\n",
       "      <td>10506</td>\n",
       "    </tr>\n",
       "    <tr>\n",
       "      <th>23</th>\n",
       "      <td>0.555010</td>\n",
       "      <td>1.855892</td>\n",
       "      <td>9692</td>\n",
       "    </tr>\n",
       "    <tr>\n",
       "      <th>24</th>\n",
       "      <td>0.524603</td>\n",
       "      <td>1.811359</td>\n",
       "      <td>6250</td>\n",
       "    </tr>\n",
       "    <tr>\n",
       "      <th>25</th>\n",
       "      <td>0.548971</td>\n",
       "      <td>1.762727</td>\n",
       "      <td>6224</td>\n",
       "    </tr>\n",
       "    <tr>\n",
       "      <th>26</th>\n",
       "      <td>0.526058</td>\n",
       "      <td>1.039957</td>\n",
       "      <td>6833</td>\n",
       "    </tr>\n",
       "    <tr>\n",
       "      <th>27</th>\n",
       "      <td>0.509469</td>\n",
       "      <td>0.925009</td>\n",
       "      <td>6347</td>\n",
       "    </tr>\n",
       "    <tr>\n",
       "      <th>28</th>\n",
       "      <td>0.559324</td>\n",
       "      <td>1.676418</td>\n",
       "      <td>6750</td>\n",
       "    </tr>\n",
       "    <tr>\n",
       "      <th>29</th>\n",
       "      <td>0.536344</td>\n",
       "      <td>1.856903</td>\n",
       "      <td>5373</td>\n",
       "    </tr>\n",
       "    <tr>\n",
       "      <th>30</th>\n",
       "      <td>0.527305</td>\n",
       "      <td>1.848047</td>\n",
       "      <td>5846</td>\n",
       "    </tr>\n",
       "    <tr>\n",
       "      <th>31</th>\n",
       "      <td>0.569332</td>\n",
       "      <td>1.818932</td>\n",
       "      <td>6070</td>\n",
       "    </tr>\n",
       "    <tr>\n",
       "      <th>32</th>\n",
       "      <td>0.572400</td>\n",
       "      <td>1.796860</td>\n",
       "      <td>5657</td>\n",
       "    </tr>\n",
       "    <tr>\n",
       "      <th>33</th>\n",
       "      <td>0.569929</td>\n",
       "      <td>1.638729</td>\n",
       "      <td>6391</td>\n",
       "    </tr>\n",
       "    <tr>\n",
       "      <th>34</th>\n",
       "      <td>0.514416</td>\n",
       "      <td>1.915523</td>\n",
       "      <td>4129</td>\n",
       "    </tr>\n",
       "    <tr>\n",
       "      <th>35</th>\n",
       "      <td>0.528107</td>\n",
       "      <td>1.853159</td>\n",
       "      <td>4465</td>\n",
       "    </tr>\n",
       "    <tr>\n",
       "      <th>36</th>\n",
       "      <td>0.516164</td>\n",
       "      <td>1.842666</td>\n",
       "      <td>7387</td>\n",
       "    </tr>\n",
       "    <tr>\n",
       "      <th>37</th>\n",
       "      <td>0.513769</td>\n",
       "      <td>1.227378</td>\n",
       "      <td>5439</td>\n",
       "    </tr>\n",
       "    <tr>\n",
       "      <th>38</th>\n",
       "      <td>0.539951</td>\n",
       "      <td>1.721856</td>\n",
       "      <td>3357</td>\n",
       "    </tr>\n",
       "    <tr>\n",
       "      <th>39</th>\n",
       "      <td>0.534683</td>\n",
       "      <td>1.657813</td>\n",
       "      <td>7632</td>\n",
       "    </tr>\n",
       "    <tr>\n",
       "      <th>40</th>\n",
       "      <td>0.523647</td>\n",
       "      <td>1.835206</td>\n",
       "      <td>5924</td>\n",
       "    </tr>\n",
       "    <tr>\n",
       "      <th>41</th>\n",
       "      <td>0.541169</td>\n",
       "      <td>1.736167</td>\n",
       "      <td>10651</td>\n",
       "    </tr>\n",
       "    <tr>\n",
       "      <th>42</th>\n",
       "      <td>0.556143</td>\n",
       "      <td>1.633863</td>\n",
       "      <td>19413</td>\n",
       "    </tr>\n",
       "    <tr>\n",
       "      <th>43</th>\n",
       "      <td>0.517755</td>\n",
       "      <td>0.991458</td>\n",
       "      <td>3620</td>\n",
       "    </tr>\n",
       "    <tr>\n",
       "      <th>44</th>\n",
       "      <td>0.514926</td>\n",
       "      <td>1.766542</td>\n",
       "      <td>4792</td>\n",
       "    </tr>\n",
       "    <tr>\n",
       "      <th>45</th>\n",
       "      <td>0.549128</td>\n",
       "      <td>1.685696</td>\n",
       "      <td>10252</td>\n",
       "    </tr>\n",
       "    <tr>\n",
       "      <th>46</th>\n",
       "      <td>0.562018</td>\n",
       "      <td>1.735604</td>\n",
       "      <td>5267</td>\n",
       "    </tr>\n",
       "    <tr>\n",
       "      <th>47</th>\n",
       "      <td>0.579692</td>\n",
       "      <td>1.797880</td>\n",
       "      <td>3498</td>\n",
       "    </tr>\n",
       "    <tr>\n",
       "      <th>48</th>\n",
       "      <td>0.553463</td>\n",
       "      <td>1.711873</td>\n",
       "      <td>5655</td>\n",
       "    </tr>\n",
       "    <tr>\n",
       "      <th>49</th>\n",
       "      <td>0.513341</td>\n",
       "      <td>1.861724</td>\n",
       "      <td>5522</td>\n",
       "    </tr>\n",
       "    <tr>\n",
       "      <th>50</th>\n",
       "      <td>0.517576</td>\n",
       "      <td>1.948482</td>\n",
       "      <td>4260</td>\n",
       "    </tr>\n",
       "    <tr>\n",
       "      <th>51</th>\n",
       "      <td>0.532335</td>\n",
       "      <td>1.882347</td>\n",
       "      <td>4498</td>\n",
       "    </tr>\n",
       "    <tr>\n",
       "      <th>52</th>\n",
       "      <td>0.525494</td>\n",
       "      <td>1.726585</td>\n",
       "      <td>15464</td>\n",
       "    </tr>\n",
       "    <tr>\n",
       "      <th>53</th>\n",
       "      <td>0.561658</td>\n",
       "      <td>1.843892</td>\n",
       "      <td>2366</td>\n",
       "    </tr>\n",
       "    <tr>\n",
       "      <th>54</th>\n",
       "      <td>0.524211</td>\n",
       "      <td>1.633216</td>\n",
       "      <td>5343</td>\n",
       "    </tr>\n",
       "    <tr>\n",
       "      <th>55</th>\n",
       "      <td>0.527499</td>\n",
       "      <td>1.728373</td>\n",
       "      <td>6309</td>\n",
       "    </tr>\n",
       "  </tbody>\n",
       "</table>\n",
       "</div>"
      ],
      "text/plain": [
       "     FWHMlat    FWHMax    Max\n",
       "0   0.591868  1.963810   6771\n",
       "1   0.609614  1.948342   4781\n",
       "2   0.628324  1.898410   4434\n",
       "3   0.569850  1.885054   2890\n",
       "4   0.619608  1.982276   3621\n",
       "5   0.587970  1.942704   3513\n",
       "6   0.614768  1.988139   6009\n",
       "7   0.601478  1.801369   6334\n",
       "8   0.572946  1.951117   5447\n",
       "9   0.543083  1.936333  16824\n",
       "10  0.572196  1.783624   5347\n",
       "11  0.554217  1.850760   8820\n",
       "12  0.567689  1.922265   2891\n",
       "13  0.522939  0.818747   1113\n",
       "14  0.551283  1.806268   5197\n",
       "15  0.621479  1.939735   5065\n",
       "16  0.559755  1.973699   7453\n",
       "17  0.562821  1.821653   3991\n",
       "18  0.538997  1.774287   7367\n",
       "19  0.593747  1.749335  16136\n",
       "20  0.583801  1.914635   3393\n",
       "21  0.578565  1.690156   3299\n",
       "22  0.631184  1.830343  10506\n",
       "23  0.555010  1.855892   9692\n",
       "24  0.524603  1.811359   6250\n",
       "25  0.548971  1.762727   6224\n",
       "26  0.526058  1.039957   6833\n",
       "27  0.509469  0.925009   6347\n",
       "28  0.559324  1.676418   6750\n",
       "29  0.536344  1.856903   5373\n",
       "30  0.527305  1.848047   5846\n",
       "31  0.569332  1.818932   6070\n",
       "32  0.572400  1.796860   5657\n",
       "33  0.569929  1.638729   6391\n",
       "34  0.514416  1.915523   4129\n",
       "35  0.528107  1.853159   4465\n",
       "36  0.516164  1.842666   7387\n",
       "37  0.513769  1.227378   5439\n",
       "38  0.539951  1.721856   3357\n",
       "39  0.534683  1.657813   7632\n",
       "40  0.523647  1.835206   5924\n",
       "41  0.541169  1.736167  10651\n",
       "42  0.556143  1.633863  19413\n",
       "43  0.517755  0.991458   3620\n",
       "44  0.514926  1.766542   4792\n",
       "45  0.549128  1.685696  10252\n",
       "46  0.562018  1.735604   5267\n",
       "47  0.579692  1.797880   3498\n",
       "48  0.553463  1.711873   5655\n",
       "49  0.513341  1.861724   5522\n",
       "50  0.517576  1.948482   4260\n",
       "51  0.532335  1.882347   4498\n",
       "52  0.525494  1.726585  15464\n",
       "53  0.561658  1.843892   2366\n",
       "54  0.524211  1.633216   5343\n",
       "55  0.527499  1.728373   6309"
      ]
     },
     "execution_count": 11,
     "metadata": {},
     "output_type": "execute_result"
    }
   ],
   "source": [
    "PSF\n"
   ]
  },
  {
   "cell_type": "code",
   "execution_count": 12,
   "metadata": {
    "collapsed": false
   },
   "outputs": [
    {
     "name": "stdout",
     "output_type": "stream",
     "text": [
      "56\n",
      "FWHMlat       0.555787\n",
      "FWHMax        1.748950\n",
      "Max        6390.678571\n",
      "dtype: float64\n",
      "FWHMlat       0.032863\n",
      "FWHMax        0.258085\n",
      "Max        3566.792861\n",
      "dtype: float64\n"
     ]
    }
   ],
   "source": [
    "print(len(PSF))\n",
    "print(PSF.mean())\n",
    "print(PSF.std())"
   ]
  },
  {
   "cell_type": "markdown",
   "metadata": {},
   "source": [
    "## Plot max projection"
   ]
  },
  {
   "cell_type": "code",
   "execution_count": 13,
   "metadata": {
    "collapsed": false,
    "scrolled": true
   },
   "outputs": [
    {
     "data": {
      "image/png": "[encoded data removed]",
      "text/plain": [
       "<Figure size 360x360 with 1 Axes>"
      ]
     },
     "metadata": {},
     "output_type": "display_data"
    }
   ],
   "source": [
    "plt.figure(figsize=(5,5));\n",
    "plt.imshow(smoothed);\n",
    "plt.plot(centers[:, 2], centers[:, 1], 'r.', ms=10);\n",
    "plt.xlim([0, smoothed.shape[0]])\n",
    "plt.ylim([smoothed.shape[1], 0])\n",
    "plt.axis('off');"
   ]
  },
  {
   "cell_type": "markdown",
   "metadata": {},
   "source": [
    "## Plot 2D slices"
   ]
  },
  {
   "cell_type": "code",
   "execution_count": 14,
   "metadata": {},
   "outputs": [],
   "source": [
    "beadInd = 5\n",
    "average = beads[beadInd]"
   ]
  },
  {
   "cell_type": "code",
   "execution_count": 15,
   "metadata": {
    "collapsed": false
   },
   "outputs": [
    {
     "data": {
      "image/png": "[encoded data removed]",
      "text/plain": [
       "<Figure size 432x288 with 1 Axes>"
      ]
     },
     "metadata": {},
     "output_type": "display_data"
    }
   ],
   "source": [
    "plt.imshow(average.mean(axis=0));\n",
    "plt.axis('off');"
   ]
  },
  {
   "cell_type": "code",
   "execution_count": 16,
   "metadata": {
    "collapsed": false
   },
   "outputs": [
    {
     "data": {
      "image/png": "[encoded data removed]",
      "text/plain": [
       "<Figure size 432x288 with 1 Axes>"
      ]
     },
     "metadata": {},
     "output_type": "display_data"
    }
   ],
   "source": [
    "plt.imshow(average.mean(axis=1), aspect = pxPerUmLat/pxPerUmAx);\n",
    "plt.axis('off');"
   ]
  },
  {
   "cell_type": "code",
   "execution_count": 17,
   "metadata": {
    "collapsed": false
   },
   "outputs": [
    {
     "data": {
      "image/png": "[encoded data removed]",
      "text/plain": [
       "<Figure size 432x288 with 1 Axes>"
      ]
     },
     "metadata": {},
     "output_type": "display_data"
    }
   ],
   "source": [
    "plt.imshow(average.mean(axis=2), aspect = pxPerUmLat/pxPerUmAx);\n",
    "plt.axis('off');"
   ]
  },
  {
   "cell_type": "markdown",
   "metadata": {},
   "source": [
    "## Plotting"
   ]
  },
  {
   "cell_type": "code",
   "execution_count": 18,
   "metadata": {
    "collapsed": false,
    "scrolled": true
   },
   "outputs": [
    {
     "data": {
      "image/png": "[encoded data removed]",
      "text/plain": [
       "<Figure size 432x288 with 1 Axes>"
      ]
     },
     "metadata": {},
     "output_type": "display_data"
    }
   ],
   "source": [
    "plotPSF(latProfile[beadInd][0],latProfile[beadInd][1],latProfile[beadInd][2],latProfile[beadInd][3],pxPerUmLat,PSF.Max.iloc[beadInd])"
   ]
  },
  {
   "cell_type": "code",
   "execution_count": 19,
   "metadata": {
    "collapsed": false
   },
   "outputs": [
    {
     "data": {
      "image/png": "[encoded data removed]",
      "text/plain": [
       "<Figure size 432x288 with 1 Axes>"
      ]
     },
     "metadata": {},
     "output_type": "display_data"
    }
   ],
   "source": [
    "plotPSF(axProfile[beadInd][0],axProfile[beadInd][1],axProfile[beadInd][2],axProfile[beadInd][3],pxPerUmAx,PSF.Max.iloc[beadInd])"
   ]
  },
  {
   "cell_type": "code",
   "execution_count": null,
   "metadata": {
    "collapsed": true
   },
   "outputs": [],
   "source": []
  }
 ],
 "metadata": {
  "anaconda-cloud": {},
  "kernelspec": {
   "display_name": "Python 3",
   "language": "python",
   "name": "python3"
  },
  "language_info": {
   "codemirror_mode": {
    "name": "ipython",
    "version": 3
   },
   "file_extension": ".py",
   "mimetype": "text/x-python",
   "name": "python",
   "nbconvert_exporter": "python",
   "pygments_lexer": "ipython3",
   "version": "3.7.0"
  }
 },
 "nbformat": 4,
 "nbformat_minor": 2
}
