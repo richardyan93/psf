{
 "cells": [
  {
   "cell_type": "markdown",
   "metadata": {},
   "source": [
    "## Setup evnironment"
   ]
  },
  {
   "cell_type": "code",
   "execution_count": 21,
   "metadata": {
    "collapsed": false
   },
   "outputs": [],
   "source": [
    "import os\n",
    "import numpy as np\n",
    "import pandas as pd\n",
    "import json\n",
    "from skimage.io import imread"
   ]
  },
  {
   "cell_type": "code",
   "execution_count": 22,
   "metadata": {},
   "outputs": [
    {
     "name": "stdout",
     "output_type": "stream",
     "text": [
      "The autoreload extension is already loaded. To reload it, use:\n",
      "  %reload_ext autoreload\n"
     ]
    }
   ],
   "source": [
    "# Notebook auto reloads code. (Ref: http://stackoverflow.com/questions/1907993/autoreload-of-modules-in-ipython)\n",
    "%load_ext autoreload\n",
    "%autoreload 2"
   ]
  },
  {
   "cell_type": "code",
   "execution_count": 23,
   "metadata": {
    "collapsed": true
   },
   "outputs": [],
   "source": [
    "from psf import compute, plotPSF"
   ]
  },
  {
   "cell_type": "markdown",
   "metadata": {},
   "source": [
    "## Setup plotting"
   ]
  },
  {
   "cell_type": "code",
   "execution_count": 24,
   "metadata": {
    "collapsed": false
   },
   "outputs": [],
   "source": [
    "import matplotlib.pyplot as plt\n",
    "%matplotlib inline\n",
    "import seaborn as sns\n",
    "sns.set_context('paper', font_scale=2.0)\n",
    "sns.set_style('ticks')"
   ]
  },
  {
   "cell_type": "markdown",
   "metadata": {},
   "source": [
    "## Define parameters"
   ]
  },
  {
   "cell_type": "code",
   "execution_count": 25,
   "metadata": {
    "collapsed": false
   },
   "outputs": [],
   "source": [
    "pxPerUmLat = 1.0/0.1383 # Inverse of pixel size, assumed to be the same between x and y\n",
    "pxPerUmAx = 1.0/0.1028 \n",
    "wavelength = 570\n",
    "NA = 0.7\n",
    "windowUm = [4,2,2]\n",
    "options = {'pxPerUmLat':pxPerUmLat, 'pxPerUmAx':pxPerUmAx, 'wavelength':wavelength, 'NA':NA, 'windowUm':windowUm}\n",
    "options['thresh'] = .05"
   ]
  },
  {
   "cell_type": "code",
   "execution_count": 26,
   "metadata": {
    "collapsed": false
   },
   "outputs": [
    {
     "data": {
      "text/plain": [
       "{'pxPerUmLat': 7.230657989877079,\n",
       " 'pxPerUmAx': 9.727626459143968,\n",
       " 'wavelength': 570,\n",
       " 'NA': 0.7,\n",
       " 'windowUm': [4, 2, 2],\n",
       " 'thresh': 0.05}"
      ]
     },
     "execution_count": 26,
     "metadata": {},
     "output_type": "execute_result"
    }
   ],
   "source": [
    "options"
   ]
  },
  {
   "cell_type": "markdown",
   "metadata": {},
   "source": [
    "## Get PSF"
   ]
  },
  {
   "cell_type": "code",
   "execution_count": 27,
   "metadata": {
    "collapsed": false
   },
   "outputs": [],
   "source": [
    "im = imread('F:\\\\coverslip_align_20210712\\\\tiff_stacks\\\\without5meter_run1_HR\\\\21-07-12 193351_skewed-48_dsf1_allsecs\\\\crop.tif', plugin='tifffile')   "
   ]
  },
  {
   "cell_type": "code",
   "execution_count": 47,
   "metadata": {
    "collapsed": false
   },
   "outputs": [],
   "source": [
    "data, beads, maxima, centers, smoothed = compute(im, options)"
   ]
  },
  {
   "cell_type": "code",
   "execution_count": 48,
   "metadata": {
    "collapsed": false
   },
   "outputs": [],
   "source": [
    "PSF = pd.concat([x[0] for x in data])\n",
    "PSF['Max'] = maxima\n",
    "PSF = PSF.reset_index().drop(['index'],axis=1)\n",
    "X_Profile = [x[1] for x in data]\n",
    "Y_Profile = [x[2] for x in data]\n",
    "Z_Profile = [x[3] for x in data]"
   ]
  },
  {
   "cell_type": "code",
   "execution_count": 49,
   "metadata": {
    "collapsed": false,
    "scrolled": false
   },
   "outputs": [
    {
     "data": {
      "text/html": [
       "<div>\n",
       "<style scoped>\n",
       "    .dataframe tbody tr th:only-of-type {\n",
       "        vertical-align: middle;\n",
       "    }\n",
       "\n",
       "    .dataframe tbody tr th {\n",
       "        vertical-align: top;\n",
       "    }\n",
       "\n",
       "    .dataframe thead th {\n",
       "        text-align: right;\n",
       "    }\n",
       "</style>\n",
       "<table border=\"1\" class=\"dataframe\">\n",
       "  <thead>\n",
       "    <tr style=\"text-align: right;\">\n",
       "      <th></th>\n",
       "      <th>FWHM_X</th>\n",
       "      <th>FWHM_Y</th>\n",
       "      <th>FWHMax</th>\n",
       "      <th>Max</th>\n",
       "    </tr>\n",
       "  </thead>\n",
       "  <tbody>\n",
       "    <tr>\n",
       "      <th>0</th>\n",
       "      <td>0.551542</td>\n",
       "      <td>0.470189</td>\n",
       "      <td>1.612893</td>\n",
       "      <td>8116</td>\n",
       "    </tr>\n",
       "    <tr>\n",
       "      <th>1</th>\n",
       "      <td>0.574320</td>\n",
       "      <td>0.489645</td>\n",
       "      <td>1.617021</td>\n",
       "      <td>9910</td>\n",
       "    </tr>\n",
       "    <tr>\n",
       "      <th>2</th>\n",
       "      <td>0.565814</td>\n",
       "      <td>0.453247</td>\n",
       "      <td>1.540107</td>\n",
       "      <td>7345</td>\n",
       "    </tr>\n",
       "    <tr>\n",
       "      <th>3</th>\n",
       "      <td>0.547211</td>\n",
       "      <td>0.475839</td>\n",
       "      <td>1.501785</td>\n",
       "      <td>10536</td>\n",
       "    </tr>\n",
       "    <tr>\n",
       "      <th>4</th>\n",
       "      <td>0.557632</td>\n",
       "      <td>0.468904</td>\n",
       "      <td>1.546225</td>\n",
       "      <td>9408</td>\n",
       "    </tr>\n",
       "    <tr>\n",
       "      <th>5</th>\n",
       "      <td>0.560723</td>\n",
       "      <td>0.470956</td>\n",
       "      <td>1.498083</td>\n",
       "      <td>14321</td>\n",
       "    </tr>\n",
       "    <tr>\n",
       "      <th>6</th>\n",
       "      <td>0.575717</td>\n",
       "      <td>0.469404</td>\n",
       "      <td>1.484006</td>\n",
       "      <td>9427</td>\n",
       "    </tr>\n",
       "    <tr>\n",
       "      <th>7</th>\n",
       "      <td>0.533740</td>\n",
       "      <td>0.450947</td>\n",
       "      <td>1.491693</td>\n",
       "      <td>2273</td>\n",
       "    </tr>\n",
       "    <tr>\n",
       "      <th>8</th>\n",
       "      <td>0.571973</td>\n",
       "      <td>0.497945</td>\n",
       "      <td>1.487337</td>\n",
       "      <td>10749</td>\n",
       "    </tr>\n",
       "    <tr>\n",
       "      <th>9</th>\n",
       "      <td>0.547221</td>\n",
       "      <td>0.463477</td>\n",
       "      <td>1.451814</td>\n",
       "      <td>12793</td>\n",
       "    </tr>\n",
       "    <tr>\n",
       "      <th>10</th>\n",
       "      <td>0.551603</td>\n",
       "      <td>0.492737</td>\n",
       "      <td>1.472411</td>\n",
       "      <td>10001</td>\n",
       "    </tr>\n",
       "    <tr>\n",
       "      <th>11</th>\n",
       "      <td>0.583239</td>\n",
       "      <td>0.488534</td>\n",
       "      <td>1.659381</td>\n",
       "      <td>8251</td>\n",
       "    </tr>\n",
       "    <tr>\n",
       "      <th>12</th>\n",
       "      <td>0.573066</td>\n",
       "      <td>0.470523</td>\n",
       "      <td>1.414815</td>\n",
       "      <td>6686</td>\n",
       "    </tr>\n",
       "    <tr>\n",
       "      <th>13</th>\n",
       "      <td>0.590785</td>\n",
       "      <td>0.503821</td>\n",
       "      <td>1.510583</td>\n",
       "      <td>6766</td>\n",
       "    </tr>\n",
       "    <tr>\n",
       "      <th>14</th>\n",
       "      <td>0.592682</td>\n",
       "      <td>0.471068</td>\n",
       "      <td>1.486221</td>\n",
       "      <td>3781</td>\n",
       "    </tr>\n",
       "    <tr>\n",
       "      <th>15</th>\n",
       "      <td>0.542973</td>\n",
       "      <td>0.463016</td>\n",
       "      <td>1.496987</td>\n",
       "      <td>8935</td>\n",
       "    </tr>\n",
       "    <tr>\n",
       "      <th>16</th>\n",
       "      <td>0.567601</td>\n",
       "      <td>0.484248</td>\n",
       "      <td>1.650310</td>\n",
       "      <td>7220</td>\n",
       "    </tr>\n",
       "    <tr>\n",
       "      <th>17</th>\n",
       "      <td>0.569694</td>\n",
       "      <td>0.462470</td>\n",
       "      <td>1.417551</td>\n",
       "      <td>6994</td>\n",
       "    </tr>\n",
       "    <tr>\n",
       "      <th>18</th>\n",
       "      <td>0.595260</td>\n",
       "      <td>0.491967</td>\n",
       "      <td>1.489955</td>\n",
       "      <td>6760</td>\n",
       "    </tr>\n",
       "    <tr>\n",
       "      <th>19</th>\n",
       "      <td>0.557835</td>\n",
       "      <td>0.470574</td>\n",
       "      <td>1.416831</td>\n",
       "      <td>10265</td>\n",
       "    </tr>\n",
       "    <tr>\n",
       "      <th>20</th>\n",
       "      <td>0.593458</td>\n",
       "      <td>0.510088</td>\n",
       "      <td>1.613039</td>\n",
       "      <td>4228</td>\n",
       "    </tr>\n",
       "    <tr>\n",
       "      <th>21</th>\n",
       "      <td>0.573763</td>\n",
       "      <td>0.505025</td>\n",
       "      <td>1.441158</td>\n",
       "      <td>12989</td>\n",
       "    </tr>\n",
       "    <tr>\n",
       "      <th>22</th>\n",
       "      <td>0.584378</td>\n",
       "      <td>0.472879</td>\n",
       "      <td>1.470144</td>\n",
       "      <td>5805</td>\n",
       "    </tr>\n",
       "    <tr>\n",
       "      <th>23</th>\n",
       "      <td>0.543405</td>\n",
       "      <td>0.456345</td>\n",
       "      <td>1.458656</td>\n",
       "      <td>11618</td>\n",
       "    </tr>\n",
       "    <tr>\n",
       "      <th>24</th>\n",
       "      <td>0.569070</td>\n",
       "      <td>0.463951</td>\n",
       "      <td>1.441646</td>\n",
       "      <td>9708</td>\n",
       "    </tr>\n",
       "    <tr>\n",
       "      <th>25</th>\n",
       "      <td>0.511045</td>\n",
       "      <td>0.463572</td>\n",
       "      <td>1.487717</td>\n",
       "      <td>13276</td>\n",
       "    </tr>\n",
       "    <tr>\n",
       "      <th>26</th>\n",
       "      <td>0.561246</td>\n",
       "      <td>0.472745</td>\n",
       "      <td>1.442640</td>\n",
       "      <td>9552</td>\n",
       "    </tr>\n",
       "    <tr>\n",
       "      <th>27</th>\n",
       "      <td>0.567538</td>\n",
       "      <td>0.527393</td>\n",
       "      <td>1.544186</td>\n",
       "      <td>3909</td>\n",
       "    </tr>\n",
       "    <tr>\n",
       "      <th>28</th>\n",
       "      <td>0.535105</td>\n",
       "      <td>0.463959</td>\n",
       "      <td>1.448140</td>\n",
       "      <td>6434</td>\n",
       "    </tr>\n",
       "    <tr>\n",
       "      <th>29</th>\n",
       "      <td>0.568878</td>\n",
       "      <td>0.492216</td>\n",
       "      <td>1.500824</td>\n",
       "      <td>22320</td>\n",
       "    </tr>\n",
       "    <tr>\n",
       "      <th>...</th>\n",
       "      <td>...</td>\n",
       "      <td>...</td>\n",
       "      <td>...</td>\n",
       "      <td>...</td>\n",
       "    </tr>\n",
       "    <tr>\n",
       "      <th>70</th>\n",
       "      <td>0.533394</td>\n",
       "      <td>0.471497</td>\n",
       "      <td>1.549484</td>\n",
       "      <td>10637</td>\n",
       "    </tr>\n",
       "    <tr>\n",
       "      <th>71</th>\n",
       "      <td>0.570682</td>\n",
       "      <td>0.488462</td>\n",
       "      <td>1.466039</td>\n",
       "      <td>7995</td>\n",
       "    </tr>\n",
       "    <tr>\n",
       "      <th>72</th>\n",
       "      <td>0.546959</td>\n",
       "      <td>0.484440</td>\n",
       "      <td>1.452914</td>\n",
       "      <td>9484</td>\n",
       "    </tr>\n",
       "    <tr>\n",
       "      <th>73</th>\n",
       "      <td>0.520345</td>\n",
       "      <td>0.481083</td>\n",
       "      <td>1.457864</td>\n",
       "      <td>11765</td>\n",
       "    </tr>\n",
       "    <tr>\n",
       "      <th>74</th>\n",
       "      <td>0.543422</td>\n",
       "      <td>0.450342</td>\n",
       "      <td>1.303633</td>\n",
       "      <td>8578</td>\n",
       "    </tr>\n",
       "    <tr>\n",
       "      <th>75</th>\n",
       "      <td>0.554929</td>\n",
       "      <td>0.469211</td>\n",
       "      <td>1.353624</td>\n",
       "      <td>13680</td>\n",
       "    </tr>\n",
       "    <tr>\n",
       "      <th>76</th>\n",
       "      <td>0.541439</td>\n",
       "      <td>0.450104</td>\n",
       "      <td>1.437992</td>\n",
       "      <td>17185</td>\n",
       "    </tr>\n",
       "    <tr>\n",
       "      <th>77</th>\n",
       "      <td>0.568872</td>\n",
       "      <td>0.485155</td>\n",
       "      <td>1.393323</td>\n",
       "      <td>11791</td>\n",
       "    </tr>\n",
       "    <tr>\n",
       "      <th>78</th>\n",
       "      <td>0.549066</td>\n",
       "      <td>0.472109</td>\n",
       "      <td>1.467843</td>\n",
       "      <td>7753</td>\n",
       "    </tr>\n",
       "    <tr>\n",
       "      <th>79</th>\n",
       "      <td>0.557891</td>\n",
       "      <td>0.476309</td>\n",
       "      <td>1.422732</td>\n",
       "      <td>13220</td>\n",
       "    </tr>\n",
       "    <tr>\n",
       "      <th>80</th>\n",
       "      <td>0.564423</td>\n",
       "      <td>0.457269</td>\n",
       "      <td>1.420084</td>\n",
       "      <td>5541</td>\n",
       "    </tr>\n",
       "    <tr>\n",
       "      <th>81</th>\n",
       "      <td>0.568081</td>\n",
       "      <td>0.490682</td>\n",
       "      <td>1.453522</td>\n",
       "      <td>10288</td>\n",
       "    </tr>\n",
       "    <tr>\n",
       "      <th>82</th>\n",
       "      <td>0.562110</td>\n",
       "      <td>0.482987</td>\n",
       "      <td>1.470460</td>\n",
       "      <td>11980</td>\n",
       "    </tr>\n",
       "    <tr>\n",
       "      <th>83</th>\n",
       "      <td>0.560845</td>\n",
       "      <td>0.465876</td>\n",
       "      <td>1.398992</td>\n",
       "      <td>9080</td>\n",
       "    </tr>\n",
       "    <tr>\n",
       "      <th>84</th>\n",
       "      <td>0.512079</td>\n",
       "      <td>0.474690</td>\n",
       "      <td>1.487832</td>\n",
       "      <td>12442</td>\n",
       "    </tr>\n",
       "    <tr>\n",
       "      <th>85</th>\n",
       "      <td>0.530944</td>\n",
       "      <td>0.484836</td>\n",
       "      <td>1.472512</td>\n",
       "      <td>3394</td>\n",
       "    </tr>\n",
       "    <tr>\n",
       "      <th>86</th>\n",
       "      <td>0.556384</td>\n",
       "      <td>0.445189</td>\n",
       "      <td>1.320078</td>\n",
       "      <td>13116</td>\n",
       "    </tr>\n",
       "    <tr>\n",
       "      <th>87</th>\n",
       "      <td>0.574746</td>\n",
       "      <td>0.488151</td>\n",
       "      <td>1.450122</td>\n",
       "      <td>25253</td>\n",
       "    </tr>\n",
       "    <tr>\n",
       "      <th>88</th>\n",
       "      <td>0.564942</td>\n",
       "      <td>0.481549</td>\n",
       "      <td>1.420926</td>\n",
       "      <td>10484</td>\n",
       "    </tr>\n",
       "    <tr>\n",
       "      <th>89</th>\n",
       "      <td>0.573373</td>\n",
       "      <td>0.472483</td>\n",
       "      <td>1.370950</td>\n",
       "      <td>14065</td>\n",
       "    </tr>\n",
       "    <tr>\n",
       "      <th>90</th>\n",
       "      <td>0.598642</td>\n",
       "      <td>0.466872</td>\n",
       "      <td>1.390633</td>\n",
       "      <td>12761</td>\n",
       "    </tr>\n",
       "    <tr>\n",
       "      <th>91</th>\n",
       "      <td>0.516529</td>\n",
       "      <td>0.466248</td>\n",
       "      <td>1.445541</td>\n",
       "      <td>13312</td>\n",
       "    </tr>\n",
       "    <tr>\n",
       "      <th>92</th>\n",
       "      <td>0.544322</td>\n",
       "      <td>0.456379</td>\n",
       "      <td>1.422235</td>\n",
       "      <td>16733</td>\n",
       "    </tr>\n",
       "    <tr>\n",
       "      <th>93</th>\n",
       "      <td>0.530636</td>\n",
       "      <td>0.454033</td>\n",
       "      <td>1.428215</td>\n",
       "      <td>9533</td>\n",
       "    </tr>\n",
       "    <tr>\n",
       "      <th>94</th>\n",
       "      <td>0.559177</td>\n",
       "      <td>0.475482</td>\n",
       "      <td>1.397505</td>\n",
       "      <td>11708</td>\n",
       "    </tr>\n",
       "    <tr>\n",
       "      <th>95</th>\n",
       "      <td>0.556825</td>\n",
       "      <td>0.457896</td>\n",
       "      <td>1.421304</td>\n",
       "      <td>16802</td>\n",
       "    </tr>\n",
       "    <tr>\n",
       "      <th>96</th>\n",
       "      <td>0.585172</td>\n",
       "      <td>0.491954</td>\n",
       "      <td>1.453204</td>\n",
       "      <td>18550</td>\n",
       "    </tr>\n",
       "    <tr>\n",
       "      <th>97</th>\n",
       "      <td>0.563788</td>\n",
       "      <td>0.452786</td>\n",
       "      <td>1.383295</td>\n",
       "      <td>13823</td>\n",
       "    </tr>\n",
       "    <tr>\n",
       "      <th>98</th>\n",
       "      <td>0.605828</td>\n",
       "      <td>0.497721</td>\n",
       "      <td>1.403314</td>\n",
       "      <td>7750</td>\n",
       "    </tr>\n",
       "    <tr>\n",
       "      <th>99</th>\n",
       "      <td>0.532415</td>\n",
       "      <td>0.487969</td>\n",
       "      <td>1.441032</td>\n",
       "      <td>12533</td>\n",
       "    </tr>\n",
       "  </tbody>\n",
       "</table>\n",
       "<p>100 rows × 4 columns</p>\n",
       "</div>"
      ],
      "text/plain": [
       "      FWHM_X    FWHM_Y    FWHMax    Max\n",
       "0   0.551542  0.470189  1.612893   8116\n",
       "1   0.574320  0.489645  1.617021   9910\n",
       "2   0.565814  0.453247  1.540107   7345\n",
       "3   0.547211  0.475839  1.501785  10536\n",
       "4   0.557632  0.468904  1.546225   9408\n",
       "5   0.560723  0.470956  1.498083  14321\n",
       "6   0.575717  0.469404  1.484006   9427\n",
       "7   0.533740  0.450947  1.491693   2273\n",
       "8   0.571973  0.497945  1.487337  10749\n",
       "9   0.547221  0.463477  1.451814  12793\n",
       "10  0.551603  0.492737  1.472411  10001\n",
       "11  0.583239  0.488534  1.659381   8251\n",
       "12  0.573066  0.470523  1.414815   6686\n",
       "13  0.590785  0.503821  1.510583   6766\n",
       "14  0.592682  0.471068  1.486221   3781\n",
       "15  0.542973  0.463016  1.496987   8935\n",
       "16  0.567601  0.484248  1.650310   7220\n",
       "17  0.569694  0.462470  1.417551   6994\n",
       "18  0.595260  0.491967  1.489955   6760\n",
       "19  0.557835  0.470574  1.416831  10265\n",
       "20  0.593458  0.510088  1.613039   4228\n",
       "21  0.573763  0.505025  1.441158  12989\n",
       "22  0.584378  0.472879  1.470144   5805\n",
       "23  0.543405  0.456345  1.458656  11618\n",
       "24  0.569070  0.463951  1.441646   9708\n",
       "25  0.511045  0.463572  1.487717  13276\n",
       "26  0.561246  0.472745  1.442640   9552\n",
       "27  0.567538  0.527393  1.544186   3909\n",
       "28  0.535105  0.463959  1.448140   6434\n",
       "29  0.568878  0.492216  1.500824  22320\n",
       "..       ...       ...       ...    ...\n",
       "70  0.533394  0.471497  1.549484  10637\n",
       "71  0.570682  0.488462  1.466039   7995\n",
       "72  0.546959  0.484440  1.452914   9484\n",
       "73  0.520345  0.481083  1.457864  11765\n",
       "74  0.543422  0.450342  1.303633   8578\n",
       "75  0.554929  0.469211  1.353624  13680\n",
       "76  0.541439  0.450104  1.437992  17185\n",
       "77  0.568872  0.485155  1.393323  11791\n",
       "78  0.549066  0.472109  1.467843   7753\n",
       "79  0.557891  0.476309  1.422732  13220\n",
       "80  0.564423  0.457269  1.420084   5541\n",
       "81  0.568081  0.490682  1.453522  10288\n",
       "82  0.562110  0.482987  1.470460  11980\n",
       "83  0.560845  0.465876  1.398992   9080\n",
       "84  0.512079  0.474690  1.487832  12442\n",
       "85  0.530944  0.484836  1.472512   3394\n",
       "86  0.556384  0.445189  1.320078  13116\n",
       "87  0.574746  0.488151  1.450122  25253\n",
       "88  0.564942  0.481549  1.420926  10484\n",
       "89  0.573373  0.472483  1.370950  14065\n",
       "90  0.598642  0.466872  1.390633  12761\n",
       "91  0.516529  0.466248  1.445541  13312\n",
       "92  0.544322  0.456379  1.422235  16733\n",
       "93  0.530636  0.454033  1.428215   9533\n",
       "94  0.559177  0.475482  1.397505  11708\n",
       "95  0.556825  0.457896  1.421304  16802\n",
       "96  0.585172  0.491954  1.453204  18550\n",
       "97  0.563788  0.452786  1.383295  13823\n",
       "98  0.605828  0.497721  1.403314   7750\n",
       "99  0.532415  0.487969  1.441032  12533\n",
       "\n",
       "[100 rows x 4 columns]"
      ]
     },
     "execution_count": 49,
     "metadata": {},
     "output_type": "execute_result"
    }
   ],
   "source": [
    "PSF\n"
   ]
  },
  {
   "cell_type": "code",
   "execution_count": 50,
   "metadata": {
    "collapsed": false
   },
   "outputs": [
    {
     "name": "stdout",
     "output_type": "stream",
     "text": [
      "Detected beads: 100\n",
      "\n",
      "Mean values:\n",
      "FWHM_X        0.556689\n",
      "FWHM_Y        0.473653\n",
      "FWHMax        1.453224\n",
      "Max       10226.540000\n",
      "dtype: float64\n",
      "\n",
      "Standard deviation:\n",
      "FWHM_X       0.020997\n",
      "FWHM_Y       0.016591\n",
      "FWHMax       0.064651\n",
      "Max       4208.699827\n",
      "dtype: float64\n"
     ]
    }
   ],
   "source": [
    "print('Detected beads:', len(PSF))\n",
    "print('\\nMean values:')\n",
    "print(PSF.mean())\n",
    "print('\\nStandard deviation:')\n",
    "print(PSF.std())"
   ]
  },
  {
   "cell_type": "markdown",
   "metadata": {},
   "source": [
    "## Plot max projection"
   ]
  },
  {
   "cell_type": "code",
   "execution_count": 51,
   "metadata": {
    "collapsed": false,
    "scrolled": true
   },
   "outputs": [
    {
     "data": {
      "image/png": "[encoded data removed]",
      "text/plain": [
       "<Figure size 360x360 with 1 Axes>"
      ]
     },
     "metadata": {},
     "output_type": "display_data"
    }
   ],
   "source": [
    "plt.figure(figsize=(5,5));\n",
    "plt.imshow(smoothed);\n",
    "plt.plot(centers[:, 2], centers[:, 1], 'r.', ms=10);\n",
    "plt.xlim([0, smoothed.shape[0]])\n",
    "plt.ylim([smoothed.shape[1], 0])\n",
    "plt.axis('off');"
   ]
  },
  {
   "cell_type": "markdown",
   "metadata": {},
   "source": [
    "## Plot 2D slices"
   ]
  },
  {
   "cell_type": "code",
   "execution_count": 52,
   "metadata": {},
   "outputs": [],
   "source": [
    "beadInd = 10\n",
    "average = beads[beadInd]"
   ]
  },
  {
   "cell_type": "code",
   "execution_count": 53,
   "metadata": {
    "collapsed": false
   },
   "outputs": [
    {
     "data": {
      "image/png": "[encoded data removed]",
      "text/plain": [
       "<Figure size 432x288 with 1 Axes>"
      ]
     },
     "metadata": {},
     "output_type": "display_data"
    }
   ],
   "source": [
    "plt.imshow(average.mean(axis=0));\n",
    "plt.axis('off');"
   ]
  },
  {
   "cell_type": "code",
   "execution_count": 54,
   "metadata": {
    "collapsed": false
   },
   "outputs": [
    {
     "data": {
      "image/png": "[encoded data removed]",
      "text/plain": [
       "<Figure size 432x288 with 1 Axes>"
      ]
     },
     "metadata": {},
     "output_type": "display_data"
    }
   ],
   "source": [
    "plt.imshow(average.mean(axis=1), aspect = pxPerUmLat/pxPerUmAx);\n",
    "plt.axis('off');"
   ]
  },
  {
   "cell_type": "code",
   "execution_count": 55,
   "metadata": {
    "collapsed": false
   },
   "outputs": [
    {
     "data": {
      "image/png": "[encoded data removed]",
      "text/plain": [
       "<Figure size 432x288 with 1 Axes>"
      ]
     },
     "metadata": {},
     "output_type": "display_data"
    }
   ],
   "source": [
    "plt.imshow(average.mean(axis=2), aspect = pxPerUmLat/pxPerUmAx);\n",
    "plt.axis('off');"
   ]
  },
  {
   "cell_type": "markdown",
   "metadata": {},
   "source": [
    "## Plotting"
   ]
  },
  {
   "cell_type": "code",
   "execution_count": 56,
   "metadata": {
    "collapsed": false,
    "scrolled": true
   },
   "outputs": [
    {
     "data": {
      "image/png": "[encoded data removed]",
      "text/plain": [
       "<Figure size 432x288 with 1 Axes>"
      ]
     },
     "metadata": {},
     "output_type": "display_data"
    }
   ],
   "source": [
    "plotPSF(X_Profile[beadInd][0],X_Profile[beadInd][1],X_Profile[beadInd][2],X_Profile[beadInd][3],pxPerUmLat,PSF.Max.iloc[beadInd])"
   ]
  },
  {
   "cell_type": "code",
   "execution_count": 58,
   "metadata": {},
   "outputs": [
    {
     "data": {
      "image/png": "[encoded data removed]",
      "text/plain": [
       "<Figure size 432x288 with 1 Axes>"
      ]
     },
     "metadata": {},
     "output_type": "display_data"
    }
   ],
   "source": [
    "plotPSF(Y_Profile[beadInd][0],Y_Profile[beadInd][1],Y_Profile[beadInd][2],Y_Profile[beadInd][3],pxPerUmLat,PSF.Max.iloc[beadInd])"
   ]
  },
  {
   "cell_type": "code",
   "execution_count": 60,
   "metadata": {
    "collapsed": false
   },
   "outputs": [
    {
     "data": {
      "image/png": "[encoded data removed]",
      "text/plain": [
       "<Figure size 432x288 with 1 Axes>"
      ]
     },
     "metadata": {},
     "output_type": "display_data"
    }
   ],
   "source": [
    "plotPSF(Z_Profile[beadInd][0],Z_Profile[beadInd][1],Z_Profile[beadInd][2],Z_Profile[beadInd][3],pxPerUmAx,PSF.Max.iloc[beadInd])"
   ]
  },
  {
   "cell_type": "code",
   "execution_count": null,
   "metadata": {
    "collapsed": true
   },
   "outputs": [],
   "source": []
  }
 ],
 "metadata": {
  "anaconda-cloud": {},
  "kernelspec": {
   "display_name": "Python 3",
   "language": "python",
   "name": "python3"
  },
  "language_info": {
   "codemirror_mode": {
    "name": "ipython",
    "version": 3
   },
   "file_extension": ".py",
   "mimetype": "text/x-python",
   "name": "python",
   "nbconvert_exporter": "python",
   "pygments_lexer": "ipython3",
   "version": "3.7.0"
  }
 },
 "nbformat": 4,
 "nbformat_minor": 2
}
