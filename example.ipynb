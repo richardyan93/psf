{
 "cells": [
  {
   "cell_type": "markdown",
   "metadata": {},
   "source": [
    "## Setup evnironment"
   ]
  },
  {
   "cell_type": "code",
   "execution_count": 21,
   "metadata": {
    "collapsed": false
   },
   "outputs": [],
   "source": [
    "import os\n",
    "import numpy as np\n",
    "import pandas as pd\n",
    "import json\n",
    "from skimage.io import imread"
   ]
  },
  {
   "cell_type": "code",
   "execution_count": 22,
   "metadata": {},
   "outputs": [
    {
     "name": "stdout",
     "output_type": "stream",
     "text": [
      "The autoreload extension is already loaded. To reload it, use:\n",
      "  %reload_ext autoreload\n"
     ]
    }
   ],
   "source": [
    "# Notebook auto reloads code. (Ref: http://stackoverflow.com/questions/1907993/autoreload-of-modules-in-ipython)\n",
    "%load_ext autoreload\n",
    "%autoreload 2"
   ]
  },
  {
   "cell_type": "code",
   "execution_count": 23,
   "metadata": {
    "collapsed": true
   },
   "outputs": [],
   "source": [
    "from psf import compute, plotPSF"
   ]
  },
  {
   "cell_type": "markdown",
   "metadata": {},
   "source": [
    "## Setup plotting"
   ]
  },
  {
   "cell_type": "code",
   "execution_count": 24,
   "metadata": {
    "collapsed": false
   },
   "outputs": [],
   "source": [
    "import matplotlib.pyplot as plt\n",
    "%matplotlib inline\n",
    "import seaborn as sns\n",
    "sns.set_context('paper', font_scale=2.0)\n",
    "sns.set_style('ticks')"
   ]
  },
  {
   "cell_type": "markdown",
   "metadata": {},
   "source": [
    "## Define parameters"
   ]
  },
  {
   "cell_type": "code",
   "execution_count": 74,
   "metadata": {
    "collapsed": false
   },
   "outputs": [],
   "source": [
    "pxPerUmLat = 1.0/0.1383 # Inverse of pixel size, assumed to be the same between x and y\n",
    "pxPerUmAx = 1.0/0.1028 \n",
    "wavelength = 570\n",
    "NA = 0.7\n",
    "windowUm = [4,2,2]\n",
    "options = {'pxPerUmLat':pxPerUmLat, 'pxPerUmAx':pxPerUmAx, 'wavelength':wavelength, 'NA':NA, 'windowUm':windowUm}\n",
    "options['thresh'] = .01"
   ]
  },
  {
   "cell_type": "code",
   "execution_count": 68,
   "metadata": {
    "collapsed": false
   },
   "outputs": [
    {
     "data": {
      "text/plain": [
       "{'pxPerUmLat': 7.230657989877079,\n",
       " 'pxPerUmAx': 9.727626459143968,\n",
       " 'wavelength': 570,\n",
       " 'NA': 0.7,\n",
       " 'windowUm': [4, 2, 2],\n",
       " 'thresh': 0.02}"
      ]
     },
     "execution_count": 68,
     "metadata": {},
     "output_type": "execute_result"
    }
   ],
   "source": [
    "options"
   ]
  },
  {
   "cell_type": "markdown",
   "metadata": {},
   "source": [
    "## Get PSF"
   ]
  },
  {
   "cell_type": "code",
   "execution_count": 61,
   "metadata": {
    "collapsed": false
   },
   "outputs": [],
   "source": [
    "im = imread('E:\\\\Richard Already Backed up\\\\coverslip_align_20210712\\\\tiff_stacks\\\\without5meter_run1_HR\\\\21-07-12 193351_skewed-48_dsf1_allsecs\\\\crop500.tif', plugin='tifffile')   "
   ]
  },
  {
   "cell_type": "code",
   "execution_count": 75,
   "metadata": {
    "collapsed": false
   },
   "outputs": [],
   "source": [
    "data, beads, maxima, centers, smoothed = compute(im, options)"
   ]
  },
  {
   "cell_type": "code",
   "execution_count": 76,
   "metadata": {
    "collapsed": false
   },
   "outputs": [],
   "source": [
    "PSF = pd.concat([x[0] for x in data])\n",
    "PSF['Max'] = maxima\n",
    "PSF = PSF.reset_index().drop(['index'],axis=1)\n",
    "X_Profile = [x[1] for x in data]\n",
    "Y_Profile = [x[2] for x in data]\n",
    "Z_Profile = [x[3] for x in data]"
   ]
  },
  {
   "cell_type": "code",
   "execution_count": 77,
   "metadata": {
    "collapsed": false,
    "scrolled": false
   },
   "outputs": [
    {
     "data": {
      "text/html": [
       "<div>\n",
       "<style scoped>\n",
       "    .dataframe tbody tr th:only-of-type {\n",
       "        vertical-align: middle;\n",
       "    }\n",
       "\n",
       "    .dataframe tbody tr th {\n",
       "        vertical-align: top;\n",
       "    }\n",
       "\n",
       "    .dataframe thead th {\n",
       "        text-align: right;\n",
       "    }\n",
       "</style>\n",
       "<table border=\"1\" class=\"dataframe\">\n",
       "  <thead>\n",
       "    <tr style=\"text-align: right;\">\n",
       "      <th></th>\n",
       "      <th>FWHM_X</th>\n",
       "      <th>FWHM_Y</th>\n",
       "      <th>FWHMax</th>\n",
       "      <th>Max</th>\n",
       "    </tr>\n",
       "  </thead>\n",
       "  <tbody>\n",
       "    <tr>\n",
       "      <th>0</th>\n",
       "      <td>0.547211</td>\n",
       "      <td>0.475839</td>\n",
       "      <td>1.501785</td>\n",
       "      <td>10536</td>\n",
       "    </tr>\n",
       "    <tr>\n",
       "      <th>1</th>\n",
       "      <td>0.557632</td>\n",
       "      <td>0.468904</td>\n",
       "      <td>1.546225</td>\n",
       "      <td>9408</td>\n",
       "    </tr>\n",
       "    <tr>\n",
       "      <th>2</th>\n",
       "      <td>0.560723</td>\n",
       "      <td>0.470956</td>\n",
       "      <td>1.498083</td>\n",
       "      <td>14321</td>\n",
       "    </tr>\n",
       "    <tr>\n",
       "      <th>3</th>\n",
       "      <td>0.547221</td>\n",
       "      <td>0.463477</td>\n",
       "      <td>1.451814</td>\n",
       "      <td>12793</td>\n",
       "    </tr>\n",
       "    <tr>\n",
       "      <th>4</th>\n",
       "      <td>0.551603</td>\n",
       "      <td>0.492737</td>\n",
       "      <td>1.472411</td>\n",
       "      <td>10001</td>\n",
       "    </tr>\n",
       "    <tr>\n",
       "      <th>5</th>\n",
       "      <td>0.573066</td>\n",
       "      <td>0.470523</td>\n",
       "      <td>1.414815</td>\n",
       "      <td>6686</td>\n",
       "    </tr>\n",
       "    <tr>\n",
       "      <th>6</th>\n",
       "      <td>0.542973</td>\n",
       "      <td>0.463016</td>\n",
       "      <td>1.496987</td>\n",
       "      <td>8935</td>\n",
       "    </tr>\n",
       "    <tr>\n",
       "      <th>7</th>\n",
       "      <td>0.557835</td>\n",
       "      <td>0.470574</td>\n",
       "      <td>1.416831</td>\n",
       "      <td>10265</td>\n",
       "    </tr>\n",
       "    <tr>\n",
       "      <th>8</th>\n",
       "      <td>0.584378</td>\n",
       "      <td>0.472879</td>\n",
       "      <td>1.470144</td>\n",
       "      <td>5805</td>\n",
       "    </tr>\n",
       "    <tr>\n",
       "      <th>9</th>\n",
       "      <td>0.511045</td>\n",
       "      <td>0.463572</td>\n",
       "      <td>1.487717</td>\n",
       "      <td>13276</td>\n",
       "    </tr>\n",
       "    <tr>\n",
       "      <th>10</th>\n",
       "      <td>0.517784</td>\n",
       "      <td>0.463523</td>\n",
       "      <td>1.471045</td>\n",
       "      <td>10488</td>\n",
       "    </tr>\n",
       "    <tr>\n",
       "      <th>11</th>\n",
       "      <td>0.555972</td>\n",
       "      <td>0.470047</td>\n",
       "      <td>1.451260</td>\n",
       "      <td>19240</td>\n",
       "    </tr>\n",
       "    <tr>\n",
       "      <th>12</th>\n",
       "      <td>0.564422</td>\n",
       "      <td>0.479274</td>\n",
       "      <td>1.406827</td>\n",
       "      <td>10621</td>\n",
       "    </tr>\n",
       "    <tr>\n",
       "      <th>13</th>\n",
       "      <td>0.544966</td>\n",
       "      <td>0.462501</td>\n",
       "      <td>1.352451</td>\n",
       "      <td>8890</td>\n",
       "    </tr>\n",
       "    <tr>\n",
       "      <th>14</th>\n",
       "      <td>0.536384</td>\n",
       "      <td>0.460488</td>\n",
       "      <td>1.384197</td>\n",
       "      <td>7927</td>\n",
       "    </tr>\n",
       "    <tr>\n",
       "      <th>15</th>\n",
       "      <td>0.571076</td>\n",
       "      <td>0.463075</td>\n",
       "      <td>1.373904</td>\n",
       "      <td>10655</td>\n",
       "    </tr>\n",
       "    <tr>\n",
       "      <th>16</th>\n",
       "      <td>0.525577</td>\n",
       "      <td>0.468668</td>\n",
       "      <td>1.518376</td>\n",
       "      <td>9348</td>\n",
       "    </tr>\n",
       "    <tr>\n",
       "      <th>17</th>\n",
       "      <td>0.546341</td>\n",
       "      <td>0.478422</td>\n",
       "      <td>1.428138</td>\n",
       "      <td>14329</td>\n",
       "    </tr>\n",
       "    <tr>\n",
       "      <th>18</th>\n",
       "      <td>0.558566</td>\n",
       "      <td>0.458174</td>\n",
       "      <td>1.373517</td>\n",
       "      <td>10837</td>\n",
       "    </tr>\n",
       "    <tr>\n",
       "      <th>19</th>\n",
       "      <td>0.554929</td>\n",
       "      <td>0.469211</td>\n",
       "      <td>1.353624</td>\n",
       "      <td>13680</td>\n",
       "    </tr>\n",
       "    <tr>\n",
       "      <th>20</th>\n",
       "      <td>0.568872</td>\n",
       "      <td>0.485155</td>\n",
       "      <td>1.393323</td>\n",
       "      <td>11791</td>\n",
       "    </tr>\n",
       "    <tr>\n",
       "      <th>21</th>\n",
       "      <td>0.557891</td>\n",
       "      <td>0.476309</td>\n",
       "      <td>1.422732</td>\n",
       "      <td>13220</td>\n",
       "    </tr>\n",
       "    <tr>\n",
       "      <th>22</th>\n",
       "      <td>0.525882</td>\n",
       "      <td>0.412195</td>\n",
       "      <td>1.400075</td>\n",
       "      <td>303</td>\n",
       "    </tr>\n",
       "    <tr>\n",
       "      <th>23</th>\n",
       "      <td>0.598642</td>\n",
       "      <td>0.466872</td>\n",
       "      <td>1.390633</td>\n",
       "      <td>12761</td>\n",
       "    </tr>\n",
       "    <tr>\n",
       "      <th>24</th>\n",
       "      <td>0.516529</td>\n",
       "      <td>0.466248</td>\n",
       "      <td>1.445541</td>\n",
       "      <td>13312</td>\n",
       "    </tr>\n",
       "    <tr>\n",
       "      <th>25</th>\n",
       "      <td>0.556825</td>\n",
       "      <td>0.457896</td>\n",
       "      <td>1.421304</td>\n",
       "      <td>16802</td>\n",
       "    </tr>\n",
       "  </tbody>\n",
       "</table>\n",
       "</div>"
      ],
      "text/plain": [
       "      FWHM_X    FWHM_Y    FWHMax    Max\n",
       "0   0.547211  0.475839  1.501785  10536\n",
       "1   0.557632  0.468904  1.546225   9408\n",
       "2   0.560723  0.470956  1.498083  14321\n",
       "3   0.547221  0.463477  1.451814  12793\n",
       "4   0.551603  0.492737  1.472411  10001\n",
       "5   0.573066  0.470523  1.414815   6686\n",
       "6   0.542973  0.463016  1.496987   8935\n",
       "7   0.557835  0.470574  1.416831  10265\n",
       "8   0.584378  0.472879  1.470144   5805\n",
       "9   0.511045  0.463572  1.487717  13276\n",
       "10  0.517784  0.463523  1.471045  10488\n",
       "11  0.555972  0.470047  1.451260  19240\n",
       "12  0.564422  0.479274  1.406827  10621\n",
       "13  0.544966  0.462501  1.352451   8890\n",
       "14  0.536384  0.460488  1.384197   7927\n",
       "15  0.571076  0.463075  1.373904  10655\n",
       "16  0.525577  0.468668  1.518376   9348\n",
       "17  0.546341  0.478422  1.428138  14329\n",
       "18  0.558566  0.458174  1.373517  10837\n",
       "19  0.554929  0.469211  1.353624  13680\n",
       "20  0.568872  0.485155  1.393323  11791\n",
       "21  0.557891  0.476309  1.422732  13220\n",
       "22  0.525882  0.412195  1.400075    303\n",
       "23  0.598642  0.466872  1.390633  12761\n",
       "24  0.516529  0.466248  1.445541  13312\n",
       "25  0.556825  0.457896  1.421304  16802"
      ]
     },
     "execution_count": 77,
     "metadata": {},
     "output_type": "execute_result"
    }
   ],
   "source": [
    "PSF\n"
   ]
  },
  {
   "cell_type": "code",
   "execution_count": 78,
   "metadata": {
    "collapsed": false
   },
   "outputs": [
    {
     "name": "stdout",
     "output_type": "stream",
     "text": [
      "Detected beads: 26\n",
      "\n",
      "Mean values:\n",
      "FWHM_X        0.551321\n",
      "FWHM_Y        0.467328\n",
      "FWHMax        1.436298\n",
      "Max       11008.846154\n",
      "dtype: float64\n",
      "\n",
      "Standard deviation:\n",
      "FWHM_X       0.020654\n",
      "FWHM_Y       0.013894\n",
      "FWHMax       0.052651\n",
      "Max       3682.393653\n",
      "dtype: float64\n"
     ]
    }
   ],
   "source": [
    "print('Detected beads:', len(PSF))\n",
    "print('\\nMean values:')\n",
    "print(PSF.mean())\n",
    "print('\\nStandard deviation:')\n",
    "print(PSF.std())"
   ]
  },
  {
   "cell_type": "markdown",
   "metadata": {},
   "source": [
    "## Plot max projection"
   ]
  },
  {
   "cell_type": "code",
   "execution_count": 79,
   "metadata": {
    "collapsed": false,
    "scrolled": true
   },
   "outputs": [
    {
     "data": {
      "image/png": "[encoded data removed]",
      "text/plain": [
       "<Figure size 360x360 with 1 Axes>"
      ]
     },
     "metadata": {},
     "output_type": "display_data"
    }
   ],
   "source": [
    "plt.figure(figsize=(5,5));\n",
    "plt.imshow(smoothed);\n",
    "plt.plot(centers[:, 2], centers[:, 1], 'r.', ms=10);\n",
    "plt.xlim([0, smoothed.shape[0]])\n",
    "plt.ylim([smoothed.shape[1], 0])\n",
    "plt.axis('off');"
   ]
  },
  {
   "cell_type": "markdown",
   "metadata": {},
   "source": [
    "## Plot 2D slices"
   ]
  },
  {
   "cell_type": "code",
   "execution_count": 80,
   "metadata": {},
   "outputs": [],
   "source": [
    "beadInd = 2\n",
    "average = beads[beadInd]"
   ]
  },
  {
   "cell_type": "code",
   "execution_count": 81,
   "metadata": {
    "collapsed": false
   },
   "outputs": [
    {
     "data": {
      "image/png": "[encoded data removed]",
      "text/plain": [
       "<Figure size 432x288 with 1 Axes>"
      ]
     },
     "metadata": {},
     "output_type": "display_data"
    }
   ],
   "source": [
    "plt.imshow(average.mean(axis=0));\n",
    "plt.axis('off');"
   ]
  },
  {
   "cell_type": "code",
   "execution_count": 82,
   "metadata": {
    "collapsed": false
   },
   "outputs": [
    {
     "data": {
      "image/png": "[encoded data removed]",
      "text/plain": [
       "<Figure size 432x288 with 1 Axes>"
      ]
     },
     "metadata": {},
     "output_type": "display_data"
    }
   ],
   "source": [
    "plt.imshow(average.mean(axis=1), aspect = pxPerUmLat/pxPerUmAx);\n",
    "plt.axis('off');"
   ]
  },
  {
   "cell_type": "code",
   "execution_count": 83,
   "metadata": {
    "collapsed": false
   },
   "outputs": [
    {
     "data": {
      "image/png": "[encoded data removed]",
      "text/plain": [
       "<Figure size 432x288 with 1 Axes>"
      ]
     },
     "metadata": {},
     "output_type": "display_data"
    }
   ],
   "source": [
    "plt.imshow(average.mean(axis=2), aspect = pxPerUmLat/pxPerUmAx);\n",
    "plt.axis('off');"
   ]
  },
  {
   "cell_type": "markdown",
   "metadata": {},
   "source": [
    "## Plotting"
   ]
  },
  {
   "cell_type": "code",
   "execution_count": 91,
   "metadata": {
    "collapsed": false,
    "scrolled": true
   },
   "outputs": [
    {
     "data": {
      "image/png": "[encoded data removed]",
      "text/plain": [
       "<Figure size 432x288 with 1 Axes>"
      ]
     },
     "metadata": {},
     "output_type": "display_data"
    }
   ],
   "source": [
    "plotPSF(X_Profile[beadInd][0],X_Profile[beadInd][1],X_Profile[beadInd][2],X_Profile[beadInd][3],pxPerUmLat,PSF.Max.iloc[beadInd])\n",
    "plt.savefig('E:\\\\Richard_GoogleDrive\\\\Richard_Yan_Beth\\\\2021\\\\coverslip_align_20210712\\\\x_profile.eps', format='eps')"
   ]
  },
  {
   "cell_type": "code",
   "execution_count": 92,
   "metadata": {},
   "outputs": [
    {
     "data": {
      "image/png": "[encoded data removed]",
      "text/plain": [
       "<Figure size 432x288 with 1 Axes>"
      ]
     },
     "metadata": {},
     "output_type": "display_data"
    }
   ],
   "source": [
    "plotPSF(Y_Profile[beadInd][0],Y_Profile[beadInd][1],Y_Profile[beadInd][2],Y_Profile[beadInd][3],pxPerUmLat,PSF.Max.iloc[beadInd])\n",
    "plt.savefig('E:\\\\Richard_GoogleDrive\\\\Richard_Yan_Beth\\\\2021\\\\coverslip_align_20210712\\\\y_profile.eps', format='eps')"
   ]
  },
  {
   "cell_type": "code",
   "execution_count": 93,
   "metadata": {
    "collapsed": false
   },
   "outputs": [
    {
     "data": {
      "image/png": "[encoded data removed]",
      "text/plain": [
       "<Figure size 432x288 with 1 Axes>"
      ]
     },
     "metadata": {},
     "output_type": "display_data"
    }
   ],
   "source": [
    "plotPSF(Z_Profile[beadInd][0],Z_Profile[beadInd][1],Z_Profile[beadInd][2],Z_Profile[beadInd][3],pxPerUmAx,PSF.Max.iloc[beadInd])\n",
    "plt.savefig('E:\\\\Richard_GoogleDrive\\\\Richard_Yan_Beth\\\\2021\\\\coverslip_align_20210712\\\\z_profile.eps', format='eps')"
   ]
  },
  {
   "cell_type": "code",
   "execution_count": null,
   "metadata": {
    "collapsed": true
   },
   "outputs": [],
   "source": []
  }
 ],
 "metadata": {
  "anaconda-cloud": {},
  "kernelspec": {
   "display_name": "Python 3",
   "language": "python",
   "name": "python3"
  },
  "language_info": {
   "codemirror_mode": {
    "name": "ipython",
    "version": 3
   },
   "file_extension": ".py",
   "mimetype": "text/x-python",
   "name": "python",
   "nbconvert_exporter": "python",
   "pygments_lexer": "ipython3",
   "version": "3.7.0"
  }
 },
 "nbformat": 4,
 "nbformat_minor": 2
}
